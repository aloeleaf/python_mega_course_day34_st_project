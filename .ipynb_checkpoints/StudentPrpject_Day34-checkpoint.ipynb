{
 "cells": [
  {
   "cell_type": "markdown",
   "id": "94a4294c-0977-4f1a-9ad7-1b80e6c4541b",
   "metadata": {},
   "source": [
    "# Import library"
   ]
  },
  {
   "cell_type": "code",
   "execution_count": 18,
   "id": "e8e874ca-2b05-4a68-99db-59bdf6fc0b2c",
   "metadata": {},
   "outputs": [],
   "source": [
    "import re"
   ]
  },
  {
   "cell_type": "markdown",
   "id": "6ca77582-291b-489e-ac5e-b5ac40efd381",
   "metadata": {},
   "source": [
    "# Load the book"
   ]
  },
  {
   "cell_type": "code",
   "execution_count": 19,
   "id": "e68ddea5-71a2-45aa-9ad1-24ea457bcbe2",
   "metadata": {},
   "outputs": [],
   "source": [
    "with open(\"miracle_in_the_andes.txt\", \"r\", encoding=\"utf-8\") as file:\n",
    "    book = file.read()"
   ]
  },
  {
   "cell_type": "markdown",
   "id": "b01d77e6-def8-4753-9919-19e86c1f6550",
   "metadata": {},
   "source": [
    "# Extract the paragraphs where \"love\" was used"
   ]
  },
  {
   "cell_type": "code",
   "execution_count": 91,
   "id": "5946edc0-4dc2-4aa7-a8c2-b71c09e7afbf",
   "metadata": {},
   "outputs": [
    {
     "data": {
      "text/plain": [
       "['To me, this is the essence of rugby. No other sport gives you such an intense sense of selflessness and unified purpose. I believe this is why rugby players all over the world feel such a passion for the game and such a feeling of brotherhood. As a young man, of course, I could not put these things into words, but I knew, and my teammates knew, that there was something special about the game, and under the guidance of the Christian Brothers we developed a passionate love ',\n",
       " 'There were others—Alexis Hounie, Gastón Costemalle, Daniel Shaw—all of them great players and all of them my friends. But my oldest friend was Guido Magri. He and I had met on my first day at the Stella Maris School—I was eight years old and Guido was one year older—and we had been inseparable ever since. Guido and I grew up together, playing soccer and sharing a love of motorcycles, cars, and auto racing. When I was fifteen we both had mopeds that we had modified in silly ways—removing the mufflers, turn signals, and fenders—and we would ride them to Las Delicias, a famous ice cream parlor in our neighborhood, where we would drool over the girls from the nearby School Sagrado Corazón, hoping to impress them with our souped-up scooters. Guido was a dependable friend, with a good sense of humor and an easy laugh. He was also an outstanding scrum half, as quick and smart as a fox, with good hands and great courage. Under the guidance of the Christian Brothers, both of us grew to love the game of rugby with a consuming passion. As seasons passed we worked hard to improve our skills, and by the time I was fifteen we had each earned a spot on the Stella Maris First XV, the team’s starting lineup. After graduation, both of us went on to join the Old Christians and spent several happy seasons pursuing the high-octane social life of young rugby players. That rowdiness came to an abrupt end for Guido in 1969, when he met and fell in love ']"
      ]
     },
     "execution_count": 91,
     "metadata": {},
     "output_type": "execute_result"
    }
   ],
   "source": [
    "pattern = re.compile(\"[^\\n]+love+[^\\n]\")\n",
    "findings = re.findall(pattern, book)\n",
    "findings[:2]"
   ]
  },
  {
   "cell_type": "markdown",
   "id": "476434a0-4952-4417-94a6-1f66ec880caa",
   "metadata": {},
   "source": [
    "# Extract the chapter titles"
   ]
  },
  {
   "cell_type": "code",
   "execution_count": 102,
   "id": "aedf46a4-1eed-4e7a-884a-bd8d7925d012",
   "metadata": {},
   "outputs": [
    {
     "data": {
      "text/plain": [
       "['Before',\n",
       " 'Everything Precious',\n",
       " 'A Promise',\n",
       " 'Breathe Once More',\n",
       " 'Abandoned',\n",
       " 'Tomb',\n",
       " 'East',\n",
       " 'The Opposite of Death',\n",
       " 'I See a Man',\n",
       " 'After']"
      ]
     },
     "execution_count": 102,
     "metadata": {},
     "output_type": "execute_result"
    }
   ],
   "source": [
    "#pattern = re.compile(\"Chapter [0-9]*\\n\\n([a-zA-Z]*[a-zA-Z | ]*)\")\n",
    "pattern = re.compile(\"([a-zA-Z ]+)\\n\\n\")\n",
    "findings = re.findall(pattern, book)\n",
    "findings"
   ]
  },
  {
   "cell_type": "markdown",
   "id": "5d4eb4a8-1b7e-4996-b93b-ce14f06a67de",
   "metadata": {},
   "source": [
    "# Function that finds the occurence of any word"
   ]
  },
  {
   "cell_type": "code",
   "execution_count": 107,
   "id": "85f4ab0d-da98-48d1-9cb0-6b49961e154b",
   "metadata": {},
   "outputs": [],
   "source": [
    "#def find(word):\n",
    "#    pattern = re.compile(word + \"[., ]\") \n",
    "#    findings = re.findall(pattern, book.lower())\n",
    "#    if findings:\n",
    "#        return len(findings) \n",
    "#    else:\n",
    "#        return f\"The book does not contain the word \\\"{word}\\\"\"\n",
    "\n",
    "def find(word):\n",
    "    pattern = re.compile(\"[a-zA-Z]+\")\n",
    "    findings = re.findall(pattern, book.lower())\n",
    "    #print(findings)\n",
    "    d = {}\n",
    "    for w in findings:\n",
    "        if w in d.keys():\n",
    "            d[w] += 1\n",
    "        else:\n",
    "            d[w] = 1\n",
    "    try:\n",
    "        return d[word]\n",
    "    except:\n",
    "        return f\"The book does not contain the word \\\"{word}\\\"\"    "
   ]
  },
  {
   "cell_type": "code",
   "execution_count": 109,
   "id": "0c7b3db2-f3d6-4026-92dc-97ad5a77f960",
   "metadata": {},
   "outputs": [
    {
     "data": {
      "text/plain": [
       "2"
      ]
     },
     "execution_count": 109,
     "metadata": {},
     "output_type": "execute_result"
    }
   ],
   "source": [
    "find(\"love\")"
   ]
  },
  {
   "cell_type": "code",
   "execution_count": 88,
   "id": "1df42056-e0b6-4653-b32e-257dc629b214",
   "metadata": {},
   "outputs": [
    {
     "data": {
      "text/plain": [
       "'The book does not contain the word \"hate\"'"
      ]
     },
     "execution_count": 88,
     "metadata": {},
     "output_type": "execute_result"
    }
   ],
   "source": [
    "find(\"hate\")"
   ]
  }
 ],
 "metadata": {
  "kernelspec": {
   "display_name": "Python 3 (ipykernel)",
   "language": "python",
   "name": "python3"
  },
  "language_info": {
   "codemirror_mode": {
    "name": "ipython",
    "version": 3
   },
   "file_extension": ".py",
   "mimetype": "text/x-python",
   "name": "python",
   "nbconvert_exporter": "python",
   "pygments_lexer": "ipython3",
   "version": "3.10.1"
  }
 },
 "nbformat": 4,
 "nbformat_minor": 5
}
